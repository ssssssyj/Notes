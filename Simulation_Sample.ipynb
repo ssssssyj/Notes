{
 "cells": [
  {
   "cell_type": "code",
   "execution_count": null,
   "id": "72205bee-03c0-40bd-b4b4-06d5fe1c24be",
   "metadata": {},
   "outputs": [],
   "source": [
    "import numpy as np\n",
    "import pandas as pd\n",
    "import matplotlib.pyplot as plt\n",
    "\n",
    "# === 1. 基础数据 ===\n",
    "# 类似地点的采样数据（被采样的总人群是人口的2%）\n",
    "sampled_traffic_location1 = np.array([20, 25, 22, 18, 30])  # 地点1的采样人流量\n",
    "sampled_traffic_location2 = np.array([15, 18, 20, 17, 22])  # 地点2的采样人流量\n",
    "sampling_rate = 0.02  # 采样率（2%）\n",
    "\n",
    "# 采样误差范围（假设±5%）\n",
    "sampling_error_range = 0.05\n",
    "\n",
    "# === 2. 推断总人流量 ===\n",
    "# 推断总人流量（考虑采样误差）\n",
    "def estimate_total_traffic(sampled_traffic, sampling_rate, error_range):\n",
    "    estimated_traffic = []\n",
    "    for value in sampled_traffic:\n",
    "        # 引入误差\n",
    "        error = np.random.uniform(-error_range, error_range)\n",
    "        adjusted_rate = sampling_rate * (1 + error)\n",
    "        estimated_traffic.append(value / adjusted_rate)\n",
    "    return np.array(estimated_traffic)\n",
    "\n",
    "# 推断地点1和地点2的总人流量\n",
    "total_traffic_location1 = estimate_total_traffic(\n",
    "    sampled_traffic_location1, sampling_rate, sampling_error_range\n",
    ")\n",
    "total_traffic_location2 = estimate_total_traffic(\n",
    "    sampled_traffic_location2, sampling_rate, sampling_error_range\n",
    ")\n",
    "\n",
    "# === 3. 计算总流量特征 ===\n",
    "# 汇总地点1和地点2的总人流量\n",
    "total_traffic = np.concatenate([total_traffic_location1, total_traffic_location2])\n",
    "\n",
    "# 显示结果统计\n",
    "print(\"地点1的推断总人流量:\", total_traffic_location1)\n",
    "print(\"地点2的推断总人流量:\", total_traffic_location2)\n",
    "print(\"整体统计描述:\")\n",
    "print(pd.DataFrame(total_traffic, columns=[\"Estimated Total Traffic\"]).describe())\n",
    "\n",
    "# === 4. 可视化 ===\n",
    "# 推断流量分布\n",
    "plt.hist(total_traffic, bins=20, alpha=0.7, label=\"Estimated Total Traffic\")\n",
    "plt.axvline(np.mean(total_traffic), color='red', linestyle='dashed', linewidth=1, label=\"Mean Traffic\")\n",
    "plt.xlabel('Estimated Total Traffic')\n",
    "plt.ylabel('Frequency')\n",
    "plt.title('Distribution of Estimated Total Traffic')\n",
    "plt.legend()\n",
    "plt.show()\n"
   ]
  }
 ],
 "metadata": {
  "kernelspec": {
   "display_name": "Python 3 (ipykernel)",
   "language": "python",
   "name": "python3"
  },
  "language_info": {
   "codemirror_mode": {
    "name": "ipython",
    "version": 3
   },
   "file_extension": ".py",
   "mimetype": "text/x-python",
   "name": "python",
   "nbconvert_exporter": "python",
   "pygments_lexer": "ipython3",
   "version": "3.12.7"
  }
 },
 "nbformat": 4,
 "nbformat_minor": 5
}
